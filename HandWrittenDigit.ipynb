{
  "nbformat": 4,
  "nbformat_minor": 0,
  "metadata": {
    "colab": {
      "provenance": [],
      "gpuType": "T4",
      "authorship_tag": "ABX9TyM/vyklYV42NIqpw/sIVIDV",
      "include_colab_link": true
    },
    "kernelspec": {
      "name": "python3",
      "display_name": "Python 3"
    },
    "language_info": {
      "name": "python"
    },
    "accelerator": "GPU"
  },
  "cells": [
    {
      "cell_type": "markdown",
      "metadata": {
        "id": "view-in-github",
        "colab_type": "text"
      },
      "source": [
        "<a href=\"https://colab.research.google.com/github/DAYACHAND-PRAJAPAT/DL-using-Colab/blob/main/HandWrittenDigit.ipynb\" target=\"_parent\"><img src=\"https://colab.research.google.com/assets/colab-badge.svg\" alt=\"Open In Colab\"/></a>"
      ]
    },
    {
      "cell_type": "code",
      "execution_count": 1,
      "metadata": {
        "id": "QfRpZkUHiJs2"
      },
      "outputs": [],
      "source": [
        "import torch\n",
        "import torch.nn as nn\n",
        "import torch.optim as optim\n",
        "import torchvision\n",
        "import torchvision.transforms as transforms\n",
        "import torchvision.datasets as datasets"
      ]
    },
    {
      "cell_type": "code",
      "source": [
        "class SimpleANN(nn.Module):\n",
        "    def __init__(self):\n",
        "        super(SimpleANN, self).__init__()\n",
        "        self.fc = nn.Sequential(\n",
        "                nn.Linear(28*28, 128),\n",
        "                nn.ReLU(),\n",
        "                nn.Linear(128, 64),\n",
        "                nn.ReLU(),\n",
        "                nn.Linear(64, 10)\n",
        "              )\n",
        "\n",
        "    def forward(self, x):\n",
        "        x = x.view(x.size(0), -1)\n",
        "        return self.fc(x)"
      ],
      "metadata": {
        "id": "vTOLv8M5jVFa"
      },
      "execution_count": 2,
      "outputs": []
    },
    {
      "cell_type": "code",
      "source": [
        "# Load Dataet\n",
        "transform = transforms.ToTensor()\n",
        "trainset = torchvision.datasets.MNIST(root='./data', train=True, download=True, transform=transform)\n",
        "trainloader = torch.utils.data.DataLoader(trainset, batch_size=64, shuffle=True)\n",
        "testset = torchvision.datasets.MNIST(root='./data', train=False, download=True, transform=transform)\n",
        "testloader = torch.utils.data.DataLoader(testset, batch_size=64, shuffle=False)"
      ],
      "metadata": {
        "colab": {
          "base_uri": "https://localhost:8080/"
        },
        "id": "WT8U3S8VnvE7",
        "outputId": "224f6abc-0564-47ae-b874-c2e284f44c94"
      },
      "execution_count": 3,
      "outputs": [
        {
          "output_type": "stream",
          "name": "stderr",
          "text": [
            "100%|██████████| 9.91M/9.91M [00:00<00:00, 12.9MB/s]\n",
            "100%|██████████| 28.9k/28.9k [00:00<00:00, 344kB/s]\n",
            "100%|██████████| 1.65M/1.65M [00:00<00:00, 3.18MB/s]\n",
            "100%|██████████| 4.54k/4.54k [00:00<00:00, 8.84MB/s]\n"
          ]
        }
      ]
    },
    {
      "cell_type": "code",
      "source": [
        "# Training\n",
        "device = torch.device(\"cuda\" if torch.cuda.is_available() else \"cpu\")\n",
        "model = SimpleANN().to(device)"
      ],
      "metadata": {
        "id": "f2EaHIGCjLUV"
      },
      "execution_count": 4,
      "outputs": []
    },
    {
      "cell_type": "code",
      "source": [
        "criterian = nn.CrossEntropyLoss()\n",
        "optimizer = optim.Adam(model.parameters(), lr=0.001)"
      ],
      "metadata": {
        "id": "F-K90aj8n0o6"
      },
      "execution_count": 5,
      "outputs": []
    },
    {
      "cell_type": "code",
      "source": [
        "for epoch in range(10):\n",
        "  total_loss = 0\n",
        "  for images, labels in trainloader:\n",
        "    images, labels = images.to(device), labels.to(device)\n",
        "    optimizer.zero_grad()\n",
        "    loss = criterian(model(images), labels)\n",
        "    loss.backward()\n",
        "    optimizer.step()\n",
        "    total_loss += loss.item()\n",
        "  print(f\"Epoch {epoch+1/2}, Loss: {total_loss/len(trainloader):.4f}\")"
      ],
      "metadata": {
        "colab": {
          "base_uri": "https://localhost:8080/"
        },
        "id": "KsEu7x-IoU6N",
        "outputId": "0fe56609-30ff-4e1f-b976-91bb6e745548"
      },
      "execution_count": 7,
      "outputs": [
        {
          "output_type": "stream",
          "name": "stdout",
          "text": [
            "Epoch 0.5, Loss: 0.0656\n",
            "Epoch 1.5, Loss: 0.0505\n",
            "Epoch 2.5, Loss: 0.0399\n",
            "Epoch 3.5, Loss: 0.0348\n",
            "Epoch 4.5, Loss: 0.0268\n",
            "Epoch 5.5, Loss: 0.0233\n",
            "Epoch 6.5, Loss: 0.0204\n",
            "Epoch 7.5, Loss: 0.0160\n",
            "Epoch 8.5, Loss: 0.0144\n",
            "Epoch 9.5, Loss: 0.0131\n"
          ]
        }
      ]
    },
    {
      "cell_type": "code",
      "source": [
        "y_prob = model(images)\n",
        "y_prob"
      ],
      "metadata": {
        "colab": {
          "base_uri": "https://localhost:8080/"
        },
        "id": "haMiw_TOqIK8",
        "outputId": "39f02368-5142-401c-b514-231c13c0e6e1"
      },
      "execution_count": 9,
      "outputs": [
        {
          "output_type": "execute_result",
          "data": {
            "text/plain": [
              "tensor([[-1.7998e+01,  1.2948e+01, -9.6032e+00, -1.4713e+01,  5.9889e-01,\n",
              "         -1.6515e+01, -1.2005e+01, -4.5126e+00, -2.8967e+00, -6.5650e+00],\n",
              "        [ 6.7705e-01, -4.4427e+00, -3.0115e+00, -1.0504e+01, -7.5201e-01,\n",
              "         -8.0390e+00,  1.7160e+01, -1.8451e+01, -1.4076e+01, -2.4501e+01],\n",
              "        [-1.1476e+01, -3.3491e+00, -1.9513e-01,  5.0335e-01, -2.0907e+01,\n",
              "         -1.1464e+01, -3.2423e+01,  1.0711e+01, -6.7622e+00,  3.8016e-01],\n",
              "        [-2.5353e+01, -1.4076e+01, -2.5286e+01, -3.4059e+00, -1.5213e+01,\n",
              "          1.9283e+01, -1.0077e+01, -2.4955e+01, -2.3235e-01,  5.4585e+00],\n",
              "        [-1.9493e+01,  1.6991e+01, -1.1183e+00, -9.7527e+00,  3.0143e+00,\n",
              "         -2.1828e+01, -1.7585e+01,  3.1666e-01, -2.6525e+00, -1.4938e+01],\n",
              "        [-1.7909e+01, -1.3586e+01, -1.1099e+01, -2.4890e+00, -3.5441e+00,\n",
              "         -1.7389e+01, -3.2862e+01, -3.2220e+00, -1.1279e+01,  2.0700e+01],\n",
              "        [-2.2316e+01, -1.6112e+01, -1.4692e+01, -1.9323e+01,  2.1565e+01,\n",
              "         -1.2978e+00, -1.4397e+01, -4.4852e+00, -1.2648e+01, -1.5334e+00],\n",
              "        [-2.7935e+01, -1.7061e+01, -5.8853e+00,  2.4069e+01, -3.0610e+01,\n",
              "          2.6016e+00, -3.7984e+01, -2.0009e+01, -1.9233e+00, -8.0980e+00],\n",
              "        [-1.5195e+01, -1.6713e+01, -1.0358e+01, -7.7737e+00, -7.9519e+00,\n",
              "          5.5946e-01, -8.5710e+00, -1.7602e+01,  1.2098e+01, -1.8204e+00],\n",
              "        [-1.0115e+01, -9.7205e-01,  2.4622e+01, -5.1526e+00, -1.0062e+01,\n",
              "         -1.1789e+01, -8.0197e+00, -5.3354e+00, -1.6897e+01, -4.2536e+01],\n",
              "        [-3.0343e+01, -1.3183e+01, -2.0589e+01,  8.4501e+00, -2.4425e+01,\n",
              "          2.5839e+01, -1.9374e+01, -3.0838e+01, -3.6038e+00,  3.5833e-01],\n",
              "        [-2.6935e+01, -1.2878e+01, -2.4448e+01,  1.0211e+01, -2.9030e+01,\n",
              "          2.6907e+01, -2.0093e+01, -3.9443e+01, -7.3640e+00,  2.2076e+00],\n",
              "        [-4.3198e+00, -7.1905e+00, -7.6219e+00, -9.6343e+00, -5.8815e+00,\n",
              "         -2.2011e-02,  1.2011e+01, -1.8217e+01,  1.6848e+00, -7.8223e+00],\n",
              "        [-3.5394e-01, -1.4430e+01, -1.9198e+00, -2.2680e+01, -3.0492e+00,\n",
              "         -1.1532e+01,  2.8187e+01, -2.8124e+01, -2.3201e+00, -2.5463e+01],\n",
              "        [-2.1659e+01, -1.2737e+01, -1.7201e+01,  2.1533e+00, -2.5813e+01,\n",
              "          1.8962e+01, -6.9132e+00, -3.0987e+01,  1.0153e+00, -1.1538e+00],\n",
              "        [-1.8319e+01,  1.0802e+01, -1.4534e+01, -9.4810e+00, -1.3677e+00,\n",
              "         -1.3900e+01, -1.7153e+01, -3.1093e+00, -4.2061e+00, -4.5665e+00],\n",
              "        [-1.4091e+01, -7.2565e+00, -4.0940e+00,  1.2399e+00, -2.5956e+01,\n",
              "         -9.7969e+00, -3.5450e+01,  2.4208e+01, -1.7016e+01, -5.4936e+00],\n",
              "        [-1.9704e+01, -1.2181e+01, -1.3746e+01, -1.9265e+01,  2.7518e+01,\n",
              "         -1.4114e+01, -1.0703e+01, -3.3587e+00, -1.0086e+01, -5.4814e+00],\n",
              "        [-6.8697e+00, -9.1414e+00, -6.4365e+00, -7.9868e+00,  1.2816e+00,\n",
              "         -1.2542e+01, -1.6864e+01, -4.0381e-01, -7.1426e+00,  1.1120e+01],\n",
              "        [-2.6440e+00, -7.4447e+00, -1.2514e+01, -4.2997e+00, -1.2606e+01,\n",
              "          1.4165e+01,  1.6457e+00, -9.7183e+00, -5.1161e-01, -1.6402e+01],\n",
              "        [-2.6441e+01, -1.3766e+01, -1.3243e+01,  2.3433e+01, -2.4240e+01,\n",
              "         -1.1376e+00, -3.6003e+01, -9.6633e+00, -1.1843e+00, -6.6753e+00],\n",
              "        [-1.6796e+01, -1.2055e+01, -1.4307e+01, -1.1074e+01,  6.4232e+00,\n",
              "         -1.4767e+01, -2.2828e+01, -5.9222e+00, -3.9210e+00,  1.6142e+01],\n",
              "        [-2.1766e+01, -9.8570e+00, -2.0037e+01,  8.9701e+00, -2.9741e+01,\n",
              "          1.9712e+01, -1.7349e+01, -2.5079e+01, -4.5782e+00,  3.7878e+00],\n",
              "        [-1.8984e+01, -1.4190e+01, -9.0384e+00, -6.5473e+00, -2.0568e+00,\n",
              "         -1.5445e+01, -2.4321e+01, -4.5798e+00, -4.5812e+00,  1.7134e+01],\n",
              "        [ 1.5247e-01, -1.1503e+01,  9.0441e+00, -1.9309e+00, -1.9870e+01,\n",
              "         -7.8596e+00, -9.4363e+00, -1.0523e+01, -6.3328e+00, -1.7796e+01],\n",
              "        [-3.0553e+01, -2.3432e+01, -1.4565e+01,  2.9058e+01, -3.5232e+01,\n",
              "          3.3521e-01, -5.0372e+01, -1.3132e+01,  2.7319e+00, -3.5446e+00],\n",
              "        [-2.7700e+01, -1.7439e+01, -1.6962e+01, -6.5457e+00,  8.0346e+00,\n",
              "         -1.9383e+01, -3.4866e+01, -4.1872e+00, -1.2357e+01,  2.2964e+01],\n",
              "        [-2.1535e+01, -1.6047e+01, -1.5941e+01, -9.0801e+00, -1.3753e+01,\n",
              "          1.6624e+01, -1.9406e+00, -2.6683e+01, -6.8126e-01, -4.5944e+00],\n",
              "        [ 2.0300e+01, -1.1864e+01, -3.5785e+00, -2.1936e+01, -1.1396e+01,\n",
              "         -1.0775e+01, -7.6446e+00, -1.9030e+00, -3.0019e+01, -3.2522e+00],\n",
              "        [-2.0911e+01, -2.1023e+01, -1.1437e+01,  2.2731e+01, -3.5572e+01,\n",
              "          2.6346e+00, -3.7617e+01, -1.5480e+01,  7.8042e-01, -4.4107e+00],\n",
              "        [-2.3330e+00, -1.0211e+01,  2.3275e+01, -2.5215e+00, -1.3221e+01,\n",
              "         -2.1907e+01, -2.2494e+01, -6.4146e+00, -6.2441e+00, -1.4766e+01],\n",
              "        [-2.4951e+01, -1.6186e+01, -1.0179e+01,  2.2227e+01, -2.6570e+01,\n",
              "          2.5845e+00, -3.7713e+01, -1.6968e+01,  3.3315e-01, -6.1431e+00]],\n",
              "       device='cuda:0', grad_fn=<AddmmBackward0>)"
            ]
          },
          "metadata": {},
          "execution_count": 9
        }
      ]
    },
    {
      "cell_type": "code",
      "source": [
        "y_pred = torch.argmax(y_prob, dim=1)"
      ],
      "metadata": {
        "id": "A-Zaz2-eqOKN"
      },
      "execution_count": 18,
      "outputs": []
    },
    {
      "cell_type": "code",
      "source": [
        "from sklearn.metrics import accuracy_score\n",
        "acc = accuracy_score(labels.cpu().numpy(), y_pred.cpu().numpy())\n",
        "print(\"Accuracy:\", acc)"
      ],
      "metadata": {
        "colab": {
          "base_uri": "https://localhost:8080/"
        },
        "id": "4VEC2HMvqgzC",
        "outputId": "55f22310-f2bc-4ec4-85bb-04008d96ce52"
      },
      "execution_count": 20,
      "outputs": [
        {
          "output_type": "stream",
          "name": "stdout",
          "text": [
            "Accuracy: 1.0\n"
          ]
        }
      ]
    }
  ]
}