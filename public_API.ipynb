{
  "nbformat": 4,
  "nbformat_minor": 0,
  "metadata": {
    "colab": {
      "provenance": [],
      "gpuType": "T4",
      "authorship_tag": "ABX9TyMSwaQiTGCtHn3gcFOidSjj",
      "include_colab_link": true
    },
    "kernelspec": {
      "name": "python3",
      "display_name": "Python 3"
    },
    "language_info": {
      "name": "python"
    },
    "accelerator": "GPU"
  },
  "cells": [
    {
      "cell_type": "markdown",
      "metadata": {
        "id": "view-in-github",
        "colab_type": "text"
      },
      "source": [
        "<a href=\"https://colab.research.google.com/github/DAYACHAND-PRAJAPAT/DL-using-Colab/blob/main/public_API.ipynb\" target=\"_parent\"><img src=\"https://colab.research.google.com/assets/colab-badge.svg\" alt=\"Open In Colab\"/></a>"
      ]
    },
    {
      "cell_type": "code",
      "source": [
        "auth = '335K4N89KMVh2mPE1tAfeewSojv_7qgZy4ruQfNhp1MZD6hnf'"
      ],
      "metadata": {
        "id": "ELM37CROyl1Y"
      },
      "execution_count": null,
      "outputs": []
    },
    {
      "cell_type": "code",
      "source": [
        "pip install pyngrok"
      ],
      "metadata": {
        "id": "DNuWWf0BCJVp"
      },
      "execution_count": null,
      "outputs": []
    },
    {
      "cell_type": "code",
      "source": [
        "from transformers import AutoTokenizer, pipeline\n",
        "from flask import Flask, request, jsonify\n",
        "from pyngrok import ngrok, conf\n",
        "import subprocess, time\n",
        "\n",
        "auth = '335K4N89KMVh2mPE1tAfeewSojv_7qgZy4ruQfNhp1MZD6hnf'\n",
        "\n",
        "conf.get_default().auth_token = auth\n",
        "\n",
        "tokenizer = AutoTokenizer.from_pretrained(\"gpt2\")\n",
        "generator = pipeline(\"text-generation\", model=\"gpt2\")\n",
        "\n",
        "app = Flask(__name__)\n",
        "\n",
        "# Tokenization Endpoint\n",
        "@app.route(\"/tokenize\", methods=['GET', 'POST'])\n",
        "def tokenize():\n",
        "    text = request.args.get(\"text\")\n",
        "    if not text:\n",
        "        return jsonify({\"error\": \"Please provide input text!!\"}), 400\n",
        "\n",
        "    tokens = tokenizer.tokenize(text)\n",
        "    ids = tokenizer.encode(text)\n",
        "\n",
        "    return jsonify({\n",
        "        \"Text\": text,\n",
        "        \"Tokens\": tokens,\n",
        "        \"IDs\": ids,\n",
        "    })\n",
        "\n",
        "\n",
        "# Text Completion Endpoint\n",
        "@app.route(\"/complete\", methods=['GET', 'POST'])\n",
        "def complete():\n",
        "    text = request.args.get(\"text\")\n",
        "    if not text:\n",
        "        return jsonify({\"error\": \"Please provide input text!!\"}), 400\n",
        "\n",
        "    output = generator(text, max_length=30, num_return_sequences=1)\n",
        "\n",
        "    return jsonify({\"GPT\": output[0]})\n",
        "\n",
        "\n",
        "public_url = ngrok.connect(5000)\n",
        "print(\"Public URL: \", public_url)\n",
        "\n",
        "process = subprocess.Popen(\n",
        "    [\"python3\", \"-m\", \"flask\", \"--app\", __name__, \"run\", \"--host=0.0.0.0\", \"--port=5000\"]\n",
        ")\n",
        "\n",
        "app.run(port=5000)"
      ],
      "metadata": {
        "id": "rMWdEDiT-_cW"
      },
      "execution_count": null,
      "outputs": []
    }
  ]
}