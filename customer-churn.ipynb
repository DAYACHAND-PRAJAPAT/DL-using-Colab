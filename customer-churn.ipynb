{
 "cells": [
  {
   "cell_type": "code",
   "execution_count": 1,
   "id": "1433e364",
   "metadata": {
    "_cell_guid": "b1076dfc-b9ad-4769-8c92-a6c4dae69d19",
    "_uuid": "8f2839f25d086af736a60e9eeb907d3b93b6e0e5",
    "execution": {
     "iopub.execute_input": "2025-10-18T10:24:40.453135Z",
     "iopub.status.busy": "2025-10-18T10:24:40.452752Z",
     "iopub.status.idle": "2025-10-18T10:24:43.970575Z",
     "shell.execute_reply": "2025-10-18T10:24:43.969020Z"
    },
    "papermill": {
     "duration": 3.527735,
     "end_time": "2025-10-18T10:24:43.972898",
     "exception": false,
     "start_time": "2025-10-18T10:24:40.445163",
     "status": "completed"
    },
    "tags": []
   },
   "outputs": [
    {
     "name": "stdout",
     "output_type": "stream",
     "text": [
      "/kaggle/input/credit-card-customer-churn-prediction/Churn_Modelling.csv\n",
      "Path to dataset files: /kaggle/input/credit-card-customer-churn-prediction\n"
     ]
    }
   ],
   "source": [
    "# This Python 3 environment comes with many helpful analytics libraries installed\n",
    "# It is defined by the kaggle/python Docker image: https://github.com/kaggle/docker-python\n",
    "# For example, here's several helpful packages to load\n",
    "\n",
    "import numpy as np # linear algebra\n",
    "import pandas as pd # data processing, CSV file I/O (e.g. pd.read_csv)\n",
    "\n",
    "# Input data files are available in the read-only \"../input/\" directory\n",
    "# For example, running this (by clicking run or pressing Shift+Enter) will list all files under the input directory\n",
    "\n",
    "import os\n",
    "for dirname, _, filenames in os.walk('/kaggle/input'):\n",
    "    for filename in filenames:\n",
    "        print(os.path.join(dirname, filename))\n",
    "\n",
    "# You can write up to 20GB to the current directory (/kaggle/working/) that gets preserved as output when you create a version using \"Save & Run All\" \n",
    "# You can also write temporary files to /kaggle/temp/, but they won't be saved outside of the current session\n",
    "\n",
    "import kagglehub\n",
    "\n",
    "# Download latest version\n",
    "path = kagglehub.dataset_download(\"rjmanoj/credit-card-customer-churn-prediction\")\n",
    "\n",
    "print(\"Path to dataset files:\", path)"
   ]
  },
  {
   "cell_type": "code",
   "execution_count": 2,
   "id": "2daf5668",
   "metadata": {
    "execution": {
     "iopub.execute_input": "2025-10-18T10:24:43.985769Z",
     "iopub.status.busy": "2025-10-18T10:24:43.985336Z",
     "iopub.status.idle": "2025-10-18T10:24:44.065419Z",
     "shell.execute_reply": "2025-10-18T10:24:44.064178Z"
    },
    "papermill": {
     "duration": 0.089107,
     "end_time": "2025-10-18T10:24:44.067421",
     "exception": false,
     "start_time": "2025-10-18T10:24:43.978314",
     "status": "completed"
    },
    "tags": []
   },
   "outputs": [
    {
     "data": {
      "text/html": [
       "<div>\n",
       "<style scoped>\n",
       "    .dataframe tbody tr th:only-of-type {\n",
       "        vertical-align: middle;\n",
       "    }\n",
       "\n",
       "    .dataframe tbody tr th {\n",
       "        vertical-align: top;\n",
       "    }\n",
       "\n",
       "    .dataframe thead th {\n",
       "        text-align: right;\n",
       "    }\n",
       "</style>\n",
       "<table border=\"1\" class=\"dataframe\">\n",
       "  <thead>\n",
       "    <tr style=\"text-align: right;\">\n",
       "      <th></th>\n",
       "      <th>RowNumber</th>\n",
       "      <th>CustomerId</th>\n",
       "      <th>Surname</th>\n",
       "      <th>CreditScore</th>\n",
       "      <th>Geography</th>\n",
       "      <th>Gender</th>\n",
       "      <th>Age</th>\n",
       "      <th>Tenure</th>\n",
       "      <th>Balance</th>\n",
       "      <th>NumOfProducts</th>\n",
       "      <th>HasCrCard</th>\n",
       "      <th>IsActiveMember</th>\n",
       "      <th>EstimatedSalary</th>\n",
       "      <th>Exited</th>\n",
       "    </tr>\n",
       "  </thead>\n",
       "  <tbody>\n",
       "    <tr>\n",
       "      <th>0</th>\n",
       "      <td>1</td>\n",
       "      <td>15634602</td>\n",
       "      <td>Hargrave</td>\n",
       "      <td>619</td>\n",
       "      <td>France</td>\n",
       "      <td>Female</td>\n",
       "      <td>42</td>\n",
       "      <td>2</td>\n",
       "      <td>0.00</td>\n",
       "      <td>1</td>\n",
       "      <td>1</td>\n",
       "      <td>1</td>\n",
       "      <td>101348.88</td>\n",
       "      <td>1</td>\n",
       "    </tr>\n",
       "    <tr>\n",
       "      <th>1</th>\n",
       "      <td>2</td>\n",
       "      <td>15647311</td>\n",
       "      <td>Hill</td>\n",
       "      <td>608</td>\n",
       "      <td>Spain</td>\n",
       "      <td>Female</td>\n",
       "      <td>41</td>\n",
       "      <td>1</td>\n",
       "      <td>83807.86</td>\n",
       "      <td>1</td>\n",
       "      <td>0</td>\n",
       "      <td>1</td>\n",
       "      <td>112542.58</td>\n",
       "      <td>0</td>\n",
       "    </tr>\n",
       "    <tr>\n",
       "      <th>2</th>\n",
       "      <td>3</td>\n",
       "      <td>15619304</td>\n",
       "      <td>Onio</td>\n",
       "      <td>502</td>\n",
       "      <td>France</td>\n",
       "      <td>Female</td>\n",
       "      <td>42</td>\n",
       "      <td>8</td>\n",
       "      <td>159660.80</td>\n",
       "      <td>3</td>\n",
       "      <td>1</td>\n",
       "      <td>0</td>\n",
       "      <td>113931.57</td>\n",
       "      <td>1</td>\n",
       "    </tr>\n",
       "    <tr>\n",
       "      <th>3</th>\n",
       "      <td>4</td>\n",
       "      <td>15701354</td>\n",
       "      <td>Boni</td>\n",
       "      <td>699</td>\n",
       "      <td>France</td>\n",
       "      <td>Female</td>\n",
       "      <td>39</td>\n",
       "      <td>1</td>\n",
       "      <td>0.00</td>\n",
       "      <td>2</td>\n",
       "      <td>0</td>\n",
       "      <td>0</td>\n",
       "      <td>93826.63</td>\n",
       "      <td>0</td>\n",
       "    </tr>\n",
       "    <tr>\n",
       "      <th>4</th>\n",
       "      <td>5</td>\n",
       "      <td>15737888</td>\n",
       "      <td>Mitchell</td>\n",
       "      <td>850</td>\n",
       "      <td>Spain</td>\n",
       "      <td>Female</td>\n",
       "      <td>43</td>\n",
       "      <td>2</td>\n",
       "      <td>125510.82</td>\n",
       "      <td>1</td>\n",
       "      <td>1</td>\n",
       "      <td>1</td>\n",
       "      <td>79084.10</td>\n",
       "      <td>0</td>\n",
       "    </tr>\n",
       "  </tbody>\n",
       "</table>\n",
       "</div>"
      ],
      "text/plain": [
       "   RowNumber  CustomerId   Surname  CreditScore Geography  Gender  Age  \\\n",
       "0          1    15634602  Hargrave          619    France  Female   42   \n",
       "1          2    15647311      Hill          608     Spain  Female   41   \n",
       "2          3    15619304      Onio          502    France  Female   42   \n",
       "3          4    15701354      Boni          699    France  Female   39   \n",
       "4          5    15737888  Mitchell          850     Spain  Female   43   \n",
       "\n",
       "   Tenure    Balance  NumOfProducts  HasCrCard  IsActiveMember  \\\n",
       "0       2       0.00              1          1               1   \n",
       "1       1   83807.86              1          0               1   \n",
       "2       8  159660.80              3          1               0   \n",
       "3       1       0.00              2          0               0   \n",
       "4       2  125510.82              1          1               1   \n",
       "\n",
       "   EstimatedSalary  Exited  \n",
       "0        101348.88       1  \n",
       "1        112542.58       0  \n",
       "2        113931.57       1  \n",
       "3         93826.63       0  \n",
       "4         79084.10       0  "
      ]
     },
     "execution_count": 2,
     "metadata": {},
     "output_type": "execute_result"
    }
   ],
   "source": [
    "df = pd.read_csv('/kaggle/input/credit-card-customer-churn-prediction/Churn_Modelling.csv')\n",
    "df.head()"
   ]
  },
  {
   "cell_type": "code",
   "execution_count": 3,
   "id": "c60827cc",
   "metadata": {
    "execution": {
     "iopub.execute_input": "2025-10-18T10:24:44.079315Z",
     "iopub.status.busy": "2025-10-18T10:24:44.078981Z",
     "iopub.status.idle": "2025-10-18T10:24:44.086547Z",
     "shell.execute_reply": "2025-10-18T10:24:44.085157Z"
    },
    "papermill": {
     "duration": 0.015552,
     "end_time": "2025-10-18T10:24:44.088416",
     "exception": false,
     "start_time": "2025-10-18T10:24:44.072864",
     "status": "completed"
    },
    "tags": []
   },
   "outputs": [
    {
     "data": {
      "text/plain": [
       "(10000, 14)"
      ]
     },
     "execution_count": 3,
     "metadata": {},
     "output_type": "execute_result"
    }
   ],
   "source": [
    "df.shape"
   ]
  },
  {
   "cell_type": "code",
   "execution_count": 4,
   "id": "0ba03b6e",
   "metadata": {
    "execution": {
     "iopub.execute_input": "2025-10-18T10:24:44.100319Z",
     "iopub.status.busy": "2025-10-18T10:24:44.099917Z",
     "iopub.status.idle": "2025-10-18T10:24:44.114048Z",
     "shell.execute_reply": "2025-10-18T10:24:44.113008Z"
    },
    "papermill": {
     "duration": 0.021865,
     "end_time": "2025-10-18T10:24:44.115754",
     "exception": false,
     "start_time": "2025-10-18T10:24:44.093889",
     "status": "completed"
    },
    "tags": []
   },
   "outputs": [
    {
     "data": {
      "text/plain": [
       "RowNumber          0\n",
       "CustomerId         0\n",
       "Surname            0\n",
       "CreditScore        0\n",
       "Geography          0\n",
       "Gender             0\n",
       "Age                0\n",
       "Tenure             0\n",
       "Balance            0\n",
       "NumOfProducts      0\n",
       "HasCrCard          0\n",
       "IsActiveMember     0\n",
       "EstimatedSalary    0\n",
       "Exited             0\n",
       "dtype: int64"
      ]
     },
     "execution_count": 4,
     "metadata": {},
     "output_type": "execute_result"
    }
   ],
   "source": [
    "df.isnull().sum()"
   ]
  },
  {
   "cell_type": "code",
   "execution_count": 5,
   "id": "8ad8e83b",
   "metadata": {
    "execution": {
     "iopub.execute_input": "2025-10-18T10:24:44.128895Z",
     "iopub.status.busy": "2025-10-18T10:24:44.128549Z",
     "iopub.status.idle": "2025-10-18T10:24:44.151586Z",
     "shell.execute_reply": "2025-10-18T10:24:44.150567Z"
    },
    "papermill": {
     "duration": 0.031726,
     "end_time": "2025-10-18T10:24:44.153479",
     "exception": false,
     "start_time": "2025-10-18T10:24:44.121753",
     "status": "completed"
    },
    "tags": []
   },
   "outputs": [
    {
     "data": {
      "text/plain": [
       "0"
      ]
     },
     "execution_count": 5,
     "metadata": {},
     "output_type": "execute_result"
    }
   ],
   "source": [
    "df.duplicated().sum()"
   ]
  },
  {
   "cell_type": "code",
   "execution_count": 6,
   "id": "177a3067",
   "metadata": {
    "execution": {
     "iopub.execute_input": "2025-10-18T10:24:44.166088Z",
     "iopub.status.busy": "2025-10-18T10:24:44.165752Z",
     "iopub.status.idle": "2025-10-18T10:24:44.176890Z",
     "shell.execute_reply": "2025-10-18T10:24:44.175814Z"
    },
    "papermill": {
     "duration": 0.019669,
     "end_time": "2025-10-18T10:24:44.178602",
     "exception": false,
     "start_time": "2025-10-18T10:24:44.158933",
     "status": "completed"
    },
    "tags": []
   },
   "outputs": [
    {
     "data": {
      "text/plain": [
       "Exited\n",
       "0    7963\n",
       "1    2037\n",
       "Name: count, dtype: int64"
      ]
     },
     "execution_count": 6,
     "metadata": {},
     "output_type": "execute_result"
    }
   ],
   "source": [
    "df['Exited'].value_counts()"
   ]
  },
  {
   "cell_type": "code",
   "execution_count": 7,
   "id": "bc15f063",
   "metadata": {
    "execution": {
     "iopub.execute_input": "2025-10-18T10:24:44.190970Z",
     "iopub.status.busy": "2025-10-18T10:24:44.190640Z",
     "iopub.status.idle": "2025-10-18T10:24:44.199136Z",
     "shell.execute_reply": "2025-10-18T10:24:44.197817Z"
    },
    "papermill": {
     "duration": 0.016536,
     "end_time": "2025-10-18T10:24:44.200912",
     "exception": false,
     "start_time": "2025-10-18T10:24:44.184376",
     "status": "completed"
    },
    "tags": []
   },
   "outputs": [
    {
     "data": {
      "text/plain": [
       "Geography\n",
       "France     5014\n",
       "Germany    2509\n",
       "Spain      2477\n",
       "Name: count, dtype: int64"
      ]
     },
     "execution_count": 7,
     "metadata": {},
     "output_type": "execute_result"
    }
   ],
   "source": [
    "df['Geography'].value_counts()"
   ]
  },
  {
   "cell_type": "code",
   "execution_count": 8,
   "id": "c5271255",
   "metadata": {
    "execution": {
     "iopub.execute_input": "2025-10-18T10:24:44.214810Z",
     "iopub.status.busy": "2025-10-18T10:24:44.214416Z",
     "iopub.status.idle": "2025-10-18T10:24:44.227680Z",
     "shell.execute_reply": "2025-10-18T10:24:44.226758Z"
    },
    "papermill": {
     "duration": 0.022247,
     "end_time": "2025-10-18T10:24:44.229491",
     "exception": false,
     "start_time": "2025-10-18T10:24:44.207244",
     "status": "completed"
    },
    "tags": []
   },
   "outputs": [],
   "source": [
    "df.drop(columns=['RowNumber', 'CustomerId', 'Surname'], inplace=True)"
   ]
  },
  {
   "cell_type": "code",
   "execution_count": 9,
   "id": "7e52a927",
   "metadata": {
    "execution": {
     "iopub.execute_input": "2025-10-18T10:24:44.242784Z",
     "iopub.status.busy": "2025-10-18T10:24:44.242447Z",
     "iopub.status.idle": "2025-10-18T10:24:44.257473Z",
     "shell.execute_reply": "2025-10-18T10:24:44.255971Z"
    },
    "papermill": {
     "duration": 0.023653,
     "end_time": "2025-10-18T10:24:44.259406",
     "exception": false,
     "start_time": "2025-10-18T10:24:44.235753",
     "status": "completed"
    },
    "tags": []
   },
   "outputs": [],
   "source": [
    "dummies = pd.get_dummies(df[['Geography', 'Gender']], drop_first=True, dtype=int)"
   ]
  },
  {
   "cell_type": "code",
   "execution_count": 10,
   "id": "4e9b964b",
   "metadata": {
    "execution": {
     "iopub.execute_input": "2025-10-18T10:24:44.275593Z",
     "iopub.status.busy": "2025-10-18T10:24:44.273843Z",
     "iopub.status.idle": "2025-10-18T10:24:44.284428Z",
     "shell.execute_reply": "2025-10-18T10:24:44.282796Z"
    },
    "papermill": {
     "duration": 0.021211,
     "end_time": "2025-10-18T10:24:44.286395",
     "exception": false,
     "start_time": "2025-10-18T10:24:44.265184",
     "status": "completed"
    },
    "tags": []
   },
   "outputs": [],
   "source": [
    "df = pd.concat([df.drop(['Geography', 'Gender'], axis=1), dummies], axis=1)"
   ]
  },
  {
   "cell_type": "code",
   "execution_count": 11,
   "id": "48ca6537",
   "metadata": {
    "execution": {
     "iopub.execute_input": "2025-10-18T10:24:44.300365Z",
     "iopub.status.busy": "2025-10-18T10:24:44.300038Z",
     "iopub.status.idle": "2025-10-18T10:24:44.315581Z",
     "shell.execute_reply": "2025-10-18T10:24:44.314408Z"
    },
    "papermill": {
     "duration": 0.024957,
     "end_time": "2025-10-18T10:24:44.317280",
     "exception": false,
     "start_time": "2025-10-18T10:24:44.292323",
     "status": "completed"
    },
    "tags": []
   },
   "outputs": [
    {
     "data": {
      "text/html": [
       "<div>\n",
       "<style scoped>\n",
       "    .dataframe tbody tr th:only-of-type {\n",
       "        vertical-align: middle;\n",
       "    }\n",
       "\n",
       "    .dataframe tbody tr th {\n",
       "        vertical-align: top;\n",
       "    }\n",
       "\n",
       "    .dataframe thead th {\n",
       "        text-align: right;\n",
       "    }\n",
       "</style>\n",
       "<table border=\"1\" class=\"dataframe\">\n",
       "  <thead>\n",
       "    <tr style=\"text-align: right;\">\n",
       "      <th></th>\n",
       "      <th>CreditScore</th>\n",
       "      <th>Age</th>\n",
       "      <th>Tenure</th>\n",
       "      <th>Balance</th>\n",
       "      <th>NumOfProducts</th>\n",
       "      <th>HasCrCard</th>\n",
       "      <th>IsActiveMember</th>\n",
       "      <th>EstimatedSalary</th>\n",
       "      <th>Exited</th>\n",
       "      <th>Geography_Germany</th>\n",
       "      <th>Geography_Spain</th>\n",
       "      <th>Gender_Male</th>\n",
       "    </tr>\n",
       "  </thead>\n",
       "  <tbody>\n",
       "    <tr>\n",
       "      <th>0</th>\n",
       "      <td>619</td>\n",
       "      <td>42</td>\n",
       "      <td>2</td>\n",
       "      <td>0.00</td>\n",
       "      <td>1</td>\n",
       "      <td>1</td>\n",
       "      <td>1</td>\n",
       "      <td>101348.88</td>\n",
       "      <td>1</td>\n",
       "      <td>0</td>\n",
       "      <td>0</td>\n",
       "      <td>0</td>\n",
       "    </tr>\n",
       "    <tr>\n",
       "      <th>1</th>\n",
       "      <td>608</td>\n",
       "      <td>41</td>\n",
       "      <td>1</td>\n",
       "      <td>83807.86</td>\n",
       "      <td>1</td>\n",
       "      <td>0</td>\n",
       "      <td>1</td>\n",
       "      <td>112542.58</td>\n",
       "      <td>0</td>\n",
       "      <td>0</td>\n",
       "      <td>1</td>\n",
       "      <td>0</td>\n",
       "    </tr>\n",
       "    <tr>\n",
       "      <th>2</th>\n",
       "      <td>502</td>\n",
       "      <td>42</td>\n",
       "      <td>8</td>\n",
       "      <td>159660.80</td>\n",
       "      <td>3</td>\n",
       "      <td>1</td>\n",
       "      <td>0</td>\n",
       "      <td>113931.57</td>\n",
       "      <td>1</td>\n",
       "      <td>0</td>\n",
       "      <td>0</td>\n",
       "      <td>0</td>\n",
       "    </tr>\n",
       "    <tr>\n",
       "      <th>3</th>\n",
       "      <td>699</td>\n",
       "      <td>39</td>\n",
       "      <td>1</td>\n",
       "      <td>0.00</td>\n",
       "      <td>2</td>\n",
       "      <td>0</td>\n",
       "      <td>0</td>\n",
       "      <td>93826.63</td>\n",
       "      <td>0</td>\n",
       "      <td>0</td>\n",
       "      <td>0</td>\n",
       "      <td>0</td>\n",
       "    </tr>\n",
       "    <tr>\n",
       "      <th>4</th>\n",
       "      <td>850</td>\n",
       "      <td>43</td>\n",
       "      <td>2</td>\n",
       "      <td>125510.82</td>\n",
       "      <td>1</td>\n",
       "      <td>1</td>\n",
       "      <td>1</td>\n",
       "      <td>79084.10</td>\n",
       "      <td>0</td>\n",
       "      <td>0</td>\n",
       "      <td>1</td>\n",
       "      <td>0</td>\n",
       "    </tr>\n",
       "  </tbody>\n",
       "</table>\n",
       "</div>"
      ],
      "text/plain": [
       "   CreditScore  Age  Tenure    Balance  NumOfProducts  HasCrCard  \\\n",
       "0          619   42       2       0.00              1          1   \n",
       "1          608   41       1   83807.86              1          0   \n",
       "2          502   42       8  159660.80              3          1   \n",
       "3          699   39       1       0.00              2          0   \n",
       "4          850   43       2  125510.82              1          1   \n",
       "\n",
       "   IsActiveMember  EstimatedSalary  Exited  Geography_Germany  \\\n",
       "0               1        101348.88       1                  0   \n",
       "1               1        112542.58       0                  0   \n",
       "2               0        113931.57       1                  0   \n",
       "3               0         93826.63       0                  0   \n",
       "4               1         79084.10       0                  0   \n",
       "\n",
       "   Geography_Spain  Gender_Male  \n",
       "0                0            0  \n",
       "1                1            0  \n",
       "2                0            0  \n",
       "3                0            0  \n",
       "4                1            0  "
      ]
     },
     "execution_count": 11,
     "metadata": {},
     "output_type": "execute_result"
    }
   ],
   "source": [
    "df.head()"
   ]
  },
  {
   "cell_type": "code",
   "execution_count": 12,
   "id": "b10bae29",
   "metadata": {
    "execution": {
     "iopub.execute_input": "2025-10-18T10:24:44.330796Z",
     "iopub.status.busy": "2025-10-18T10:24:44.329734Z",
     "iopub.status.idle": "2025-10-18T10:24:44.335992Z",
     "shell.execute_reply": "2025-10-18T10:24:44.335001Z"
    },
    "papermill": {
     "duration": 0.014593,
     "end_time": "2025-10-18T10:24:44.337694",
     "exception": false,
     "start_time": "2025-10-18T10:24:44.323101",
     "status": "completed"
    },
    "tags": []
   },
   "outputs": [],
   "source": [
    "X = df.drop(columns=['Exited'])\n",
    "y = df['Exited']"
   ]
  },
  {
   "cell_type": "code",
   "execution_count": 13,
   "id": "5099ce52",
   "metadata": {
    "execution": {
     "iopub.execute_input": "2025-10-18T10:24:44.350661Z",
     "iopub.status.busy": "2025-10-18T10:24:44.350224Z",
     "iopub.status.idle": "2025-10-18T10:24:44.355791Z",
     "shell.execute_reply": "2025-10-18T10:24:44.354601Z"
    },
    "papermill": {
     "duration": 0.0141,
     "end_time": "2025-10-18T10:24:44.357778",
     "exception": false,
     "start_time": "2025-10-18T10:24:44.343678",
     "status": "completed"
    },
    "tags": []
   },
   "outputs": [],
   "source": [
    "y = df['Exited'].values"
   ]
  },
  {
   "cell_type": "code",
   "execution_count": 14,
   "id": "22c7dde2",
   "metadata": {
    "execution": {
     "iopub.execute_input": "2025-10-18T10:24:44.371166Z",
     "iopub.status.busy": "2025-10-18T10:24:44.370829Z",
     "iopub.status.idle": "2025-10-18T10:24:46.379567Z",
     "shell.execute_reply": "2025-10-18T10:24:46.378378Z"
    },
    "papermill": {
     "duration": 2.017767,
     "end_time": "2025-10-18T10:24:46.381627",
     "exception": false,
     "start_time": "2025-10-18T10:24:44.363860",
     "status": "completed"
    },
    "tags": []
   },
   "outputs": [],
   "source": [
    "from sklearn.model_selection import train_test_split\n",
    "X_train, X_test, y_train, y_test = train_test_split(X, y, test_size=0.2, random_state=42)"
   ]
  },
  {
   "cell_type": "code",
   "execution_count": 15,
   "id": "c3efefd4",
   "metadata": {
    "execution": {
     "iopub.execute_input": "2025-10-18T10:24:46.395547Z",
     "iopub.status.busy": "2025-10-18T10:24:46.395053Z",
     "iopub.status.idle": "2025-10-18T10:24:46.411117Z",
     "shell.execute_reply": "2025-10-18T10:24:46.409959Z"
    },
    "papermill": {
     "duration": 0.025133,
     "end_time": "2025-10-18T10:24:46.412978",
     "exception": false,
     "start_time": "2025-10-18T10:24:46.387845",
     "status": "completed"
    },
    "tags": []
   },
   "outputs": [
    {
     "data": {
      "text/html": [
       "<div>\n",
       "<style scoped>\n",
       "    .dataframe tbody tr th:only-of-type {\n",
       "        vertical-align: middle;\n",
       "    }\n",
       "\n",
       "    .dataframe tbody tr th {\n",
       "        vertical-align: top;\n",
       "    }\n",
       "\n",
       "    .dataframe thead th {\n",
       "        text-align: right;\n",
       "    }\n",
       "</style>\n",
       "<table border=\"1\" class=\"dataframe\">\n",
       "  <thead>\n",
       "    <tr style=\"text-align: right;\">\n",
       "      <th></th>\n",
       "      <th>CreditScore</th>\n",
       "      <th>Age</th>\n",
       "      <th>Tenure</th>\n",
       "      <th>Balance</th>\n",
       "      <th>NumOfProducts</th>\n",
       "      <th>HasCrCard</th>\n",
       "      <th>IsActiveMember</th>\n",
       "      <th>EstimatedSalary</th>\n",
       "      <th>Geography_Germany</th>\n",
       "      <th>Geography_Spain</th>\n",
       "      <th>Gender_Male</th>\n",
       "    </tr>\n",
       "  </thead>\n",
       "  <tbody>\n",
       "    <tr>\n",
       "      <th>0</th>\n",
       "      <td>619</td>\n",
       "      <td>42</td>\n",
       "      <td>2</td>\n",
       "      <td>0.00</td>\n",
       "      <td>1</td>\n",
       "      <td>1</td>\n",
       "      <td>1</td>\n",
       "      <td>101348.88</td>\n",
       "      <td>0</td>\n",
       "      <td>0</td>\n",
       "      <td>0</td>\n",
       "    </tr>\n",
       "    <tr>\n",
       "      <th>1</th>\n",
       "      <td>608</td>\n",
       "      <td>41</td>\n",
       "      <td>1</td>\n",
       "      <td>83807.86</td>\n",
       "      <td>1</td>\n",
       "      <td>0</td>\n",
       "      <td>1</td>\n",
       "      <td>112542.58</td>\n",
       "      <td>0</td>\n",
       "      <td>1</td>\n",
       "      <td>0</td>\n",
       "    </tr>\n",
       "    <tr>\n",
       "      <th>2</th>\n",
       "      <td>502</td>\n",
       "      <td>42</td>\n",
       "      <td>8</td>\n",
       "      <td>159660.80</td>\n",
       "      <td>3</td>\n",
       "      <td>1</td>\n",
       "      <td>0</td>\n",
       "      <td>113931.57</td>\n",
       "      <td>0</td>\n",
       "      <td>0</td>\n",
       "      <td>0</td>\n",
       "    </tr>\n",
       "    <tr>\n",
       "      <th>3</th>\n",
       "      <td>699</td>\n",
       "      <td>39</td>\n",
       "      <td>1</td>\n",
       "      <td>0.00</td>\n",
       "      <td>2</td>\n",
       "      <td>0</td>\n",
       "      <td>0</td>\n",
       "      <td>93826.63</td>\n",
       "      <td>0</td>\n",
       "      <td>0</td>\n",
       "      <td>0</td>\n",
       "    </tr>\n",
       "    <tr>\n",
       "      <th>4</th>\n",
       "      <td>850</td>\n",
       "      <td>43</td>\n",
       "      <td>2</td>\n",
       "      <td>125510.82</td>\n",
       "      <td>1</td>\n",
       "      <td>1</td>\n",
       "      <td>1</td>\n",
       "      <td>79084.10</td>\n",
       "      <td>0</td>\n",
       "      <td>1</td>\n",
       "      <td>0</td>\n",
       "    </tr>\n",
       "    <tr>\n",
       "      <th>...</th>\n",
       "      <td>...</td>\n",
       "      <td>...</td>\n",
       "      <td>...</td>\n",
       "      <td>...</td>\n",
       "      <td>...</td>\n",
       "      <td>...</td>\n",
       "      <td>...</td>\n",
       "      <td>...</td>\n",
       "      <td>...</td>\n",
       "      <td>...</td>\n",
       "      <td>...</td>\n",
       "    </tr>\n",
       "    <tr>\n",
       "      <th>9995</th>\n",
       "      <td>771</td>\n",
       "      <td>39</td>\n",
       "      <td>5</td>\n",
       "      <td>0.00</td>\n",
       "      <td>2</td>\n",
       "      <td>1</td>\n",
       "      <td>0</td>\n",
       "      <td>96270.64</td>\n",
       "      <td>0</td>\n",
       "      <td>0</td>\n",
       "      <td>1</td>\n",
       "    </tr>\n",
       "    <tr>\n",
       "      <th>9996</th>\n",
       "      <td>516</td>\n",
       "      <td>35</td>\n",
       "      <td>10</td>\n",
       "      <td>57369.61</td>\n",
       "      <td>1</td>\n",
       "      <td>1</td>\n",
       "      <td>1</td>\n",
       "      <td>101699.77</td>\n",
       "      <td>0</td>\n",
       "      <td>0</td>\n",
       "      <td>1</td>\n",
       "    </tr>\n",
       "    <tr>\n",
       "      <th>9997</th>\n",
       "      <td>709</td>\n",
       "      <td>36</td>\n",
       "      <td>7</td>\n",
       "      <td>0.00</td>\n",
       "      <td>1</td>\n",
       "      <td>0</td>\n",
       "      <td>1</td>\n",
       "      <td>42085.58</td>\n",
       "      <td>0</td>\n",
       "      <td>0</td>\n",
       "      <td>0</td>\n",
       "    </tr>\n",
       "    <tr>\n",
       "      <th>9998</th>\n",
       "      <td>772</td>\n",
       "      <td>42</td>\n",
       "      <td>3</td>\n",
       "      <td>75075.31</td>\n",
       "      <td>2</td>\n",
       "      <td>1</td>\n",
       "      <td>0</td>\n",
       "      <td>92888.52</td>\n",
       "      <td>1</td>\n",
       "      <td>0</td>\n",
       "      <td>1</td>\n",
       "    </tr>\n",
       "    <tr>\n",
       "      <th>9999</th>\n",
       "      <td>792</td>\n",
       "      <td>28</td>\n",
       "      <td>4</td>\n",
       "      <td>130142.79</td>\n",
       "      <td>1</td>\n",
       "      <td>1</td>\n",
       "      <td>0</td>\n",
       "      <td>38190.78</td>\n",
       "      <td>0</td>\n",
       "      <td>0</td>\n",
       "      <td>0</td>\n",
       "    </tr>\n",
       "  </tbody>\n",
       "</table>\n",
       "<p>10000 rows × 11 columns</p>\n",
       "</div>"
      ],
      "text/plain": [
       "      CreditScore  Age  Tenure    Balance  NumOfProducts  HasCrCard  \\\n",
       "0             619   42       2       0.00              1          1   \n",
       "1             608   41       1   83807.86              1          0   \n",
       "2             502   42       8  159660.80              3          1   \n",
       "3             699   39       1       0.00              2          0   \n",
       "4             850   43       2  125510.82              1          1   \n",
       "...           ...  ...     ...        ...            ...        ...   \n",
       "9995          771   39       5       0.00              2          1   \n",
       "9996          516   35      10   57369.61              1          1   \n",
       "9997          709   36       7       0.00              1          0   \n",
       "9998          772   42       3   75075.31              2          1   \n",
       "9999          792   28       4  130142.79              1          1   \n",
       "\n",
       "      IsActiveMember  EstimatedSalary  Geography_Germany  Geography_Spain  \\\n",
       "0                  1        101348.88                  0                0   \n",
       "1                  1        112542.58                  0                1   \n",
       "2                  0        113931.57                  0                0   \n",
       "3                  0         93826.63                  0                0   \n",
       "4                  1         79084.10                  0                1   \n",
       "...              ...              ...                ...              ...   \n",
       "9995               0         96270.64                  0                0   \n",
       "9996               1        101699.77                  0                0   \n",
       "9997               1         42085.58                  0                0   \n",
       "9998               0         92888.52                  1                0   \n",
       "9999               0         38190.78                  0                0   \n",
       "\n",
       "      Gender_Male  \n",
       "0               0  \n",
       "1               0  \n",
       "2               0  \n",
       "3               0  \n",
       "4               0  \n",
       "...           ...  \n",
       "9995            1  \n",
       "9996            1  \n",
       "9997            0  \n",
       "9998            1  \n",
       "9999            0  \n",
       "\n",
       "[10000 rows x 11 columns]"
      ]
     },
     "execution_count": 15,
     "metadata": {},
     "output_type": "execute_result"
    }
   ],
   "source": [
    "X"
   ]
  },
  {
   "cell_type": "code",
   "execution_count": 16,
   "id": "fa17dc09",
   "metadata": {
    "execution": {
     "iopub.execute_input": "2025-10-18T10:24:46.426848Z",
     "iopub.status.busy": "2025-10-18T10:24:46.426510Z",
     "iopub.status.idle": "2025-10-18T10:24:46.456414Z",
     "shell.execute_reply": "2025-10-18T10:24:46.454889Z"
    },
    "papermill": {
     "duration": 0.039024,
     "end_time": "2025-10-18T10:24:46.458316",
     "exception": false,
     "start_time": "2025-10-18T10:24:46.419292",
     "status": "completed"
    },
    "tags": []
   },
   "outputs": [],
   "source": [
    "from sklearn.preprocessing import StandardScaler\n",
    "scaler = StandardScaler()\n",
    "\n",
    "X_train = scaler.fit_transform(X_train)\n",
    "X_test = scaler.transform(X_test)"
   ]
  },
  {
   "cell_type": "code",
   "execution_count": 17,
   "id": "cbdda6aa",
   "metadata": {
    "execution": {
     "iopub.execute_input": "2025-10-18T10:24:46.472804Z",
     "iopub.status.busy": "2025-10-18T10:24:46.472467Z",
     "iopub.status.idle": "2025-10-18T10:24:52.545270Z",
     "shell.execute_reply": "2025-10-18T10:24:52.543745Z"
    },
    "papermill": {
     "duration": 6.082247,
     "end_time": "2025-10-18T10:24:52.547325",
     "exception": false,
     "start_time": "2025-10-18T10:24:46.465078",
     "status": "completed"
    },
    "tags": []
   },
   "outputs": [],
   "source": [
    "import torch\n",
    "import torch.nn as nn\n",
    "import torch.optim as optim"
   ]
  },
  {
   "cell_type": "code",
   "execution_count": 18,
   "id": "94f4544d",
   "metadata": {
    "execution": {
     "iopub.execute_input": "2025-10-18T10:24:52.563479Z",
     "iopub.status.busy": "2025-10-18T10:24:52.562599Z",
     "iopub.status.idle": "2025-10-18T10:24:52.624812Z",
     "shell.execute_reply": "2025-10-18T10:24:52.623343Z"
    },
    "papermill": {
     "duration": 0.072842,
     "end_time": "2025-10-18T10:24:52.627307",
     "exception": false,
     "start_time": "2025-10-18T10:24:52.554465",
     "status": "completed"
    },
    "tags": []
   },
   "outputs": [],
   "source": [
    "# Convert to PyTorch tensors\n",
    "X_train_tensor = torch.tensor(X_train, dtype=torch.float32)\n",
    "y_train_tensor = torch.tensor(y_train, dtype=torch.float32).unsqueeze(1)\n",
    "\n",
    "X_test_tensor = torch.tensor(X_test, dtype=torch.float32)\n",
    "y_test_tensor = torch.tensor(y_test, dtype=torch.float32).unsqueeze(1)"
   ]
  },
  {
   "cell_type": "code",
   "execution_count": 19,
   "id": "40659f9e",
   "metadata": {
    "execution": {
     "iopub.execute_input": "2025-10-18T10:24:52.643345Z",
     "iopub.status.busy": "2025-10-18T10:24:52.643017Z",
     "iopub.status.idle": "2025-10-18T10:24:52.658692Z",
     "shell.execute_reply": "2025-10-18T10:24:52.657644Z"
    },
    "papermill": {
     "duration": 0.025062,
     "end_time": "2025-10-18T10:24:52.660797",
     "exception": false,
     "start_time": "2025-10-18T10:24:52.635735",
     "status": "completed"
    },
    "tags": []
   },
   "outputs": [],
   "source": [
    "class SimpleANN(nn.Module):\n",
    "    def __init__(self, input_dim, hidden_dim, output_dim):\n",
    "        super(SimpleANN, self).__init__()\n",
    "        self.fc1 = nn.Linear(input_dim, hidden_dim)\n",
    "        self.fc2 = nn.Linear(hidden_dim, output_dim)\n",
    "        self.relu = nn.ReLU()\n",
    "        self.sigmoid = nn.Sigmoid()\n",
    "\n",
    "    def forward(self, x):\n",
    "        x = self.relu(self.fc1(x))\n",
    "        x = self.sigmoid(self.fc2(x))\n",
    "        return x\n",
    "\n",
    "# Initialize model\n",
    "input_dim = X_train.shape[1]\n",
    "hidden_dim = 8\n",
    "output_dim = 1\n",
    "model = SimpleANN(input_dim, hidden_dim, output_dim)"
   ]
  },
  {
   "cell_type": "code",
   "execution_count": 20,
   "id": "ae62a1fd",
   "metadata": {
    "execution": {
     "iopub.execute_input": "2025-10-18T10:24:52.676545Z",
     "iopub.status.busy": "2025-10-18T10:24:52.676232Z",
     "iopub.status.idle": "2025-10-18T10:25:00.179486Z",
     "shell.execute_reply": "2025-10-18T10:25:00.178175Z"
    },
    "papermill": {
     "duration": 7.5139,
     "end_time": "2025-10-18T10:25:00.181566",
     "exception": false,
     "start_time": "2025-10-18T10:24:52.667666",
     "status": "completed"
    },
    "tags": []
   },
   "outputs": [],
   "source": [
    "criterion = nn.BCELoss()  # Binary Cross Entropy for binary classification\n",
    "optimizer = optim.Adam(model.parameters(), lr=0.001)"
   ]
  },
  {
   "cell_type": "code",
   "execution_count": 21,
   "id": "7e983b96",
   "metadata": {
    "execution": {
     "iopub.execute_input": "2025-10-18T10:25:00.195493Z",
     "iopub.status.busy": "2025-10-18T10:25:00.195043Z",
     "iopub.status.idle": "2025-10-18T10:25:00.561573Z",
     "shell.execute_reply": "2025-10-18T10:25:00.559991Z"
    },
    "papermill": {
     "duration": 0.375343,
     "end_time": "2025-10-18T10:25:00.563363",
     "exception": false,
     "start_time": "2025-10-18T10:25:00.188020",
     "status": "completed"
    },
    "tags": []
   },
   "outputs": [
    {
     "name": "stdout",
     "output_type": "stream",
     "text": [
      "Epoch [10/100], Loss: 0.6735\n",
      "Epoch [20/100], Loss: 0.6573\n",
      "Epoch [30/100], Loss: 0.6422\n",
      "Epoch [40/100], Loss: 0.6281\n",
      "Epoch [50/100], Loss: 0.6149\n",
      "Epoch [60/100], Loss: 0.6025\n",
      "Epoch [70/100], Loss: 0.5910\n",
      "Epoch [80/100], Loss: 0.5802\n",
      "Epoch [90/100], Loss: 0.5701\n",
      "Epoch [100/100], Loss: 0.5606\n"
     ]
    }
   ],
   "source": [
    "epochs = 100\n",
    "for epoch in range(epochs):\n",
    "    model.train()  # training mode\n",
    "\n",
    "    # Forward pass (compute outputs fresh each epoch)\n",
    "    outputs = model(X_train_tensor)\n",
    "\n",
    "    # Compute loss\n",
    "    loss = criterion(outputs, y_train_tensor)\n",
    "\n",
    "    # Zero gradients before backward pass\n",
    "    optimizer.zero_grad()\n",
    "\n",
    "    # Backward pass\n",
    "    loss.backward()  # called only once per forward\n",
    "\n",
    "    # Update weights\n",
    "    optimizer.step()\n",
    "\n",
    "    if (epoch+1) % 10 == 0:\n",
    "        print(f\"Epoch [{epoch+1}/{epochs}], Loss: {loss.item():.4f}\")"
   ]
  },
  {
   "cell_type": "code",
   "execution_count": 22,
   "id": "b8b84be5",
   "metadata": {
    "execution": {
     "iopub.execute_input": "2025-10-18T10:25:00.578848Z",
     "iopub.status.busy": "2025-10-18T10:25:00.578514Z",
     "iopub.status.idle": "2025-10-18T10:25:00.585877Z",
     "shell.execute_reply": "2025-10-18T10:25:00.584558Z"
    },
    "papermill": {
     "duration": 0.017393,
     "end_time": "2025-10-18T10:25:00.587882",
     "exception": false,
     "start_time": "2025-10-18T10:25:00.570489",
     "status": "completed"
    },
    "tags": []
   },
   "outputs": [],
   "source": [
    "model.eval()  # set model to evaluation mode\n",
    "with torch.no_grad():\n",
    "    y_pred = model(X_test_tensor)\n",
    "    y_pred_cls = (y_pred > 0.5).float()"
   ]
  },
  {
   "cell_type": "code",
   "execution_count": 23,
   "id": "e2ba6a31",
   "metadata": {
    "execution": {
     "iopub.execute_input": "2025-10-18T10:25:00.601882Z",
     "iopub.status.busy": "2025-10-18T10:25:00.601555Z",
     "iopub.status.idle": "2025-10-18T10:25:00.628605Z",
     "shell.execute_reply": "2025-10-18T10:25:00.627397Z"
    },
    "papermill": {
     "duration": 0.036022,
     "end_time": "2025-10-18T10:25:00.630350",
     "exception": false,
     "start_time": "2025-10-18T10:25:00.594328",
     "status": "completed"
    },
    "tags": []
   },
   "outputs": [
    {
     "name": "stdout",
     "output_type": "stream",
     "text": [
      "\n",
      "Accuracy: 0.8105\n",
      "\n",
      "Confusion Matrix:\n",
      " [[1594   13]\n",
      " [ 366   27]]\n",
      "\n",
      "Classification Report:\n",
      "               precision    recall  f1-score   support\n",
      "\n",
      "         0.0       0.81      0.99      0.89      1607\n",
      "         1.0       0.68      0.07      0.12       393\n",
      "\n",
      "    accuracy                           0.81      2000\n",
      "   macro avg       0.74      0.53      0.51      2000\n",
      "weighted avg       0.79      0.81      0.74      2000\n",
      "\n"
     ]
    }
   ],
   "source": [
    "from sklearn.metrics import accuracy_score, confusion_matrix, classification_report\n",
    "# Make predictions on test set\n",
    "model.eval()\n",
    "with torch.no_grad():\n",
    "    y_pred = model(X_test_tensor)\n",
    "    y_pred_cls = (y_pred > 0.5).float()\n",
    "\n",
    "# Convert to numpy for sklearn metrics\n",
    "y_test_np = y_test_tensor.numpy()\n",
    "y_pred_np = y_pred_cls.numpy()\n",
    "\n",
    "# Metrics\n",
    "acc = accuracy_score(y_test_np, y_pred_np)\n",
    "cm = confusion_matrix(y_test_np, y_pred_np)\n",
    "report = classification_report(y_test_np, y_pred_np)\n",
    "\n",
    "print(\"\\nAccuracy:\", acc)\n",
    "print(\"\\nConfusion Matrix:\\n\", cm)\n",
    "print(\"\\nClassification Report:\\n\", report)\n"
   ]
  }
 ],
 "metadata": {
  "kaggle": {
   "accelerator": "none",
   "dataSources": [
    {
     "datasetId": 869651,
     "isSourceIdPinned": false,
     "sourceId": 1481789,
     "sourceType": "datasetVersion"
    }
   ],
   "dockerImageVersionId": 31153,
   "isGpuEnabled": false,
   "isInternetEnabled": false,
   "language": "python",
   "sourceType": "notebook"
  },
  "kernelspec": {
   "display_name": "Python 3",
   "language": "python",
   "name": "python3"
  },
  "language_info": {
   "codemirror_mode": {
    "name": "ipython",
    "version": 3
   },
   "file_extension": ".py",
   "mimetype": "text/x-python",
   "name": "python",
   "nbconvert_exporter": "python",
   "pygments_lexer": "ipython3",
   "version": "3.11.13"
  },
  "papermill": {
   "default_parameters": {},
   "duration": 28.64945,
   "end_time": "2025-10-18T10:25:03.045184",
   "environment_variables": {},
   "exception": null,
   "input_path": "__notebook__.ipynb",
   "output_path": "__notebook__.ipynb",
   "parameters": {},
   "start_time": "2025-10-18T10:24:34.395734",
   "version": "2.6.0"
  }
 },
 "nbformat": 4,
 "nbformat_minor": 5
}
